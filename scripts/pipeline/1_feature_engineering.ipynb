{
  "nbformat": 4,
  "nbformat_minor": 0,
  "metadata": {
    "colab": {
      "provenance": []
    },
    "kernelspec": {
      "name": "python3",
      "display_name": "Python 3"
    },
    "language_info": {
      "name": "python"
    }
  },
  "cells": [
    {
      "cell_type": "code",
      "execution_count": null,
      "metadata": {
        "colab": {
          "base_uri": "https://localhost:8080/",
          "height": 1000
        },
        "id": "chQWhfvFmslN",
        "outputId": "4e17b8d9-098b-48a3-b69b-3ef16b8895f7"
      },
      "outputs": [
        {
          "output_type": "stream",
          "name": "stdout",
          "text": [
            "Collecting pandas-ta\n",
            "  Downloading pandas_ta-0.4.67b0-py3-none-any.whl.metadata (2.2 kB)\n",
            "Collecting numba==0.61.2 (from pandas-ta)\n",
            "  Downloading numba-0.61.2-cp312-cp312-manylinux2014_x86_64.manylinux_2_17_x86_64.whl.metadata (2.8 kB)\n",
            "Collecting numpy>=2.2.6 (from pandas-ta)\n",
            "  Downloading numpy-2.3.2-cp312-cp312-manylinux_2_27_x86_64.manylinux_2_28_x86_64.whl.metadata (62 kB)\n",
            "\u001b[2K     \u001b[90m━━━━━━━━━━━━━━━━━━━━━━━━━━━━━━━━━━━━━━━━\u001b[0m \u001b[32m62.1/62.1 kB\u001b[0m \u001b[31m2.7 MB/s\u001b[0m eta \u001b[36m0:00:00\u001b[0m\n",
            "\u001b[?25hCollecting pandas>=2.3.2 (from pandas-ta)\n",
            "  Downloading pandas-2.3.2-cp312-cp312-manylinux_2_17_x86_64.manylinux2014_x86_64.whl.metadata (91 kB)\n",
            "\u001b[2K     \u001b[90m━━━━━━━━━━━━━━━━━━━━━━━━━━━━━━━━━━━━━━━━\u001b[0m \u001b[32m91.2/91.2 kB\u001b[0m \u001b[31m4.0 MB/s\u001b[0m eta \u001b[36m0:00:00\u001b[0m\n",
            "\u001b[?25hRequirement already satisfied: tqdm>=4.67.1 in /usr/local/lib/python3.12/dist-packages (from pandas-ta) (4.67.1)\n",
            "Collecting llvmlite<0.45,>=0.44.0dev0 (from numba==0.61.2->pandas-ta)\n",
            "  Downloading llvmlite-0.44.0-cp312-cp312-manylinux_2_17_x86_64.manylinux2014_x86_64.whl.metadata (5.0 kB)\n",
            "Collecting numpy>=2.2.6 (from pandas-ta)\n",
            "  Downloading numpy-2.2.6-cp312-cp312-manylinux_2_17_x86_64.manylinux2014_x86_64.whl.metadata (62 kB)\n",
            "\u001b[2K     \u001b[90m━━━━━━━━━━━━━━━━━━━━━━━━━━━━━━━━━━━━━━━━\u001b[0m \u001b[32m62.0/62.0 kB\u001b[0m \u001b[31m5.8 MB/s\u001b[0m eta \u001b[36m0:00:00\u001b[0m\n",
            "\u001b[?25hRequirement already satisfied: python-dateutil>=2.8.2 in /usr/local/lib/python3.12/dist-packages (from pandas>=2.3.2->pandas-ta) (2.9.0.post0)\n",
            "Requirement already satisfied: pytz>=2020.1 in /usr/local/lib/python3.12/dist-packages (from pandas>=2.3.2->pandas-ta) (2025.2)\n",
            "Requirement already satisfied: tzdata>=2022.7 in /usr/local/lib/python3.12/dist-packages (from pandas>=2.3.2->pandas-ta) (2025.2)\n",
            "Requirement already satisfied: six>=1.5 in /usr/local/lib/python3.12/dist-packages (from python-dateutil>=2.8.2->pandas>=2.3.2->pandas-ta) (1.17.0)\n",
            "Downloading pandas_ta-0.4.67b0-py3-none-any.whl (240 kB)\n",
            "\u001b[2K   \u001b[90m━━━━━━━━━━━━━━━━━━━━━━━━━━━━━━━━━━━━━━━━\u001b[0m \u001b[32m240.6/240.6 kB\u001b[0m \u001b[31m10.8 MB/s\u001b[0m eta \u001b[36m0:00:00\u001b[0m\n",
            "\u001b[?25hDownloading numba-0.61.2-cp312-cp312-manylinux2014_x86_64.manylinux_2_17_x86_64.whl (3.9 MB)\n",
            "\u001b[2K   \u001b[90m━━━━━━━━━━━━━━━━━━━━━━━━━━━━━━━━━━━━━━━━\u001b[0m \u001b[32m3.9/3.9 MB\u001b[0m \u001b[31m69.8 MB/s\u001b[0m eta \u001b[36m0:00:00\u001b[0m\n",
            "\u001b[?25hDownloading numpy-2.2.6-cp312-cp312-manylinux_2_17_x86_64.manylinux2014_x86_64.whl (16.5 MB)\n",
            "\u001b[2K   \u001b[90m━━━━━━━━━━━━━━━━━━━━━━━━━━━━━━━━━━━━━━━━\u001b[0m \u001b[32m16.5/16.5 MB\u001b[0m \u001b[31m93.1 MB/s\u001b[0m eta \u001b[36m0:00:00\u001b[0m\n",
            "\u001b[?25hDownloading pandas-2.3.2-cp312-cp312-manylinux_2_17_x86_64.manylinux2014_x86_64.whl (12.0 MB)\n",
            "\u001b[2K   \u001b[90m━━━━━━━━━━━━━━━━━━━━━━━━━━━━━━━━━━━━━━━━\u001b[0m \u001b[32m12.0/12.0 MB\u001b[0m \u001b[31m97.5 MB/s\u001b[0m eta \u001b[36m0:00:00\u001b[0m\n",
            "\u001b[?25hDownloading llvmlite-0.44.0-cp312-cp312-manylinux_2_17_x86_64.manylinux2014_x86_64.whl (42.4 MB)\n",
            "\u001b[2K   \u001b[90m━━━━━━━━━━━━━━━━━━━━━━━━━━━━━━━━━━━━━━━━\u001b[0m \u001b[32m42.4/42.4 MB\u001b[0m \u001b[31m12.6 MB/s\u001b[0m eta \u001b[36m0:00:00\u001b[0m\n",
            "\u001b[?25hInstalling collected packages: numpy, llvmlite, pandas, numba, pandas-ta\n",
            "  Attempting uninstall: numpy\n",
            "    Found existing installation: numpy 2.0.2\n",
            "    Uninstalling numpy-2.0.2:\n",
            "      Successfully uninstalled numpy-2.0.2\n",
            "  Attempting uninstall: llvmlite\n",
            "    Found existing installation: llvmlite 0.43.0\n",
            "    Uninstalling llvmlite-0.43.0:\n",
            "      Successfully uninstalled llvmlite-0.43.0\n",
            "  Attempting uninstall: pandas\n",
            "    Found existing installation: pandas 2.2.2\n",
            "    Uninstalling pandas-2.2.2:\n",
            "      Successfully uninstalled pandas-2.2.2\n",
            "  Attempting uninstall: numba\n",
            "    Found existing installation: numba 0.60.0\n",
            "    Uninstalling numba-0.60.0:\n",
            "      Successfully uninstalled numba-0.60.0\n",
            "\u001b[31mERROR: pip's dependency resolver does not currently take into account all the packages that are installed. This behaviour is the source of the following dependency conflicts.\n",
            "google-colab 1.0.0 requires pandas==2.2.2, but you have pandas 2.3.2 which is incompatible.\n",
            "dask-cudf-cu12 25.6.0 requires pandas<2.2.4dev0,>=2.0, but you have pandas 2.3.2 which is incompatible.\n",
            "tensorflow 2.19.0 requires numpy<2.2.0,>=1.26.0, but you have numpy 2.2.6 which is incompatible.\n",
            "cudf-cu12 25.6.0 requires pandas<2.2.4dev0,>=2.0, but you have pandas 2.3.2 which is incompatible.\u001b[0m\u001b[31m\n",
            "\u001b[0mSuccessfully installed llvmlite-0.44.0 numba-0.61.2 numpy-2.2.6 pandas-2.3.2 pandas-ta-0.4.67b0\n"
          ]
        },
        {
          "output_type": "display_data",
          "data": {
            "application/vnd.colab-display-data+json": {
              "pip_warning": {
                "packages": [
                  "numpy"
                ]
              },
              "id": "9c89b23905124b1bbc24a07fd2d46a3b"
            }
          },
          "metadata": {}
        }
      ],
      "source": [
        "!pip install pandas-ta"
      ]
    },
    {
      "cell_type": "code",
      "source": [
        "import pandas as pd\n",
        "import pandas_ta as ta\n",
        "import numpy as np\n",
        "from tqdm import tqdm"
      ],
      "metadata": {
        "id": "iM_b2uCJnEGg"
      },
      "execution_count": null,
      "outputs": []
    },
    {
      "cell_type": "code",
      "source": [
        "df_domain = pd.read_csv('/content/drive/MyDrive/Data Stock/clear_domain.csv', index_col=0)\n",
        "df_fundamentals = pd.read_csv('/content/drive/MyDrive/Data Stock/clear_fundamentals.csv', index_col=0)\n",
        "df_sp500 = pd.read_csv('/content/drive/MyDrive/Data Stock/clear_sp500.csv', index_col=0)"
      ],
      "metadata": {
        "id": "jtIEUmz4nFRh"
      },
      "execution_count": null,
      "outputs": []
    },
    {
      "cell_type": "code",
      "source": [
        "# Tiền xử lý cột Date\n",
        "df_sp500['Date'] = pd.to_datetime(df_sp500['Date'])\n",
        "\n",
        "# Merge df_sp500 với df_domain để thêm thông tin ngành\n",
        "df_merged = pd.merge(df_sp500, df_domain, on='Symbol', how='left')\n",
        "\n",
        "# Merge tiếp với df_fundamentals để thêm thông tin cơ bản\n",
        "df_full = pd.merge(df_merged, df_fundamentals, on='Symbol', how='left')\n",
        "\n",
        "# Sắp xếp lại để đảm bảo tính tuần tự\n",
        "df_full = df_full.sort_values(by=['Symbol', 'Date']).reset_index(drop=True)\n",
        "\n",
        "print(f\"Đã kết hợp thành công. Dữ liệu tổng thể có {df_full.shape[0]} dòng và {df_full.shape[1]} cột.\")\n",
        "print(\"Các cột trong DataFrame tổng thể:\")\n",
        "print(df_full.columns)\n",
        "print(\"\\nVí dụ 5 dòng đầu tiên của dữ liệu tổng thể:\")\n",
        "print(df_full.head())"
      ],
      "metadata": {
        "colab": {
          "base_uri": "https://localhost:8080/"
        },
        "id": "W89sTMBNnMyZ",
        "outputId": "df564a53-001a-49cb-ee16-3fc64be9db15"
      },
      "execution_count": null,
      "outputs": [
        {
          "output_type": "stream",
          "name": "stdout",
          "text": [
            "Đã kết hợp thành công. Dữ liệu tổng thể có 1614230 dòng và 22 cột.\n",
            "Các cột trong DataFrame tổng thể:\n",
            "Index(['Symbol', 'Date', 'Open', 'High', 'Low', 'Close', 'Adj Close', 'Volume',\n",
            "       'Dividends', 'Stock Splits', 'GICS Sector', 'forwardPE', 'priceToBook',\n",
            "       'enterpriseToRevenue', 'profitMargins', 'trailingEps', 'forwardEps',\n",
            "       'beta', '52WeekChange', 'averageVolume', 'marketCap', 'payoutRatio'],\n",
            "      dtype='object')\n",
            "\n",
            "Ví dụ 5 dòng đầu tiên của dữ liệu tổng thể:\n",
            "  Symbol                      Date       Open       High        Low  \\\n",
            "0      A 2010-09-07 04:00:00+00:00  21.237482  21.251787  20.708155   \n",
            "1      A 2010-09-08 04:00:00+00:00  20.801144  20.915594  20.593704   \n",
            "2      A 2010-09-09 04:00:00+00:00  20.922747  21.022890  20.686695   \n",
            "3      A 2010-09-10 04:00:00+00:00  20.708155  20.872675  20.543634   \n",
            "4      A 2010-09-13 04:00:00+00:00  20.908442  21.072962  20.708155   \n",
            "\n",
            "       Close  Adj Close   Volume  Dividends  Stock Splits  ... priceToBook  \\\n",
            "0  20.736767  18.460630  3085805        0.0           0.0  ...    5.574749   \n",
            "1  20.629471  18.365110  3923627        0.0           0.0  ...    5.574749   \n",
            "2  20.693848  18.422419  2937198        0.0           0.0  ...    5.574749   \n",
            "3  20.679543  18.409681  2481031        0.0           0.0  ...    5.574749   \n",
            "4  20.836910  18.549782  4135424        0.0           0.0  ...    5.574749   \n",
            "\n",
            "   enterpriseToRevenue  profitMargins  trailingEps  forwardEps   beta  \\\n",
            "0                5.533        0.17973         4.28        5.65  1.219   \n",
            "1                5.533        0.17973         4.28        5.65  1.219   \n",
            "2                5.533        0.17973         4.28        5.65  1.219   \n",
            "3                5.533        0.17973         4.28        5.65  1.219   \n",
            "4                5.533        0.17973         4.28        5.65  1.219   \n",
            "\n",
            "   52WeekChange  averageVolume     marketCap  payoutRatio  \n",
            "0      -0.09497      1721914.0  3.549987e+10        0.229  \n",
            "1      -0.09497      1721914.0  3.549987e+10        0.229  \n",
            "2      -0.09497      1721914.0  3.549987e+10        0.229  \n",
            "3      -0.09497      1721914.0  3.549987e+10        0.229  \n",
            "4      -0.09497      1721914.0  3.549987e+10        0.229  \n",
            "\n",
            "[5 rows x 22 columns]\n"
          ]
        }
      ]
    },
    {
      "cell_type": "code",
      "source": [
        "# A. Tạo các đặc trưng động (Technical Indicators) từ dữ liệu giá\n",
        "print(\"Tạo các chỉ báo kỹ thuật...\")\n",
        "df_full.ta.rsi(close='Close', length=14, append=True, groupby='Symbol')\n",
        "df_full.ta.macd(close='Close', append=True, groupby='Symbol')\n",
        "df_full.ta.ema(close='Close', length=20, append=True, groupby='Symbol')\n",
        "df_full.ta.ema(close='Close', length=50, append=True, groupby='Symbol')\n",
        "df_full.ta.bbands(close='Close', length=20, append=True, groupby='Symbol')\n",
        "df_full.ta.atr(high='High', low='Low', close='Close', length=14, append=True, groupby='Symbol')\n",
        "df_full.ta.obv(close='Close', volume='Volume', append=True, groupby='Symbol')"
      ],
      "metadata": {
        "colab": {
          "base_uri": "https://localhost:8080/",
          "height": 475
        },
        "id": "n-AAXdkpnWR1",
        "outputId": "0606051d-b818-41a2-c275-19f0c9cf8540"
      },
      "execution_count": null,
      "outputs": [
        {
          "output_type": "stream",
          "name": "stdout",
          "text": [
            "Tạo các chỉ báo kỹ thuật...\n"
          ]
        },
        {
          "output_type": "execute_result",
          "data": {
            "text/plain": [
              "0                   NaN\n",
              "1         -3.923627e+06\n",
              "2         -9.864290e+05\n",
              "3         -3.467460e+06\n",
              "4          6.679640e+05\n",
              "               ...     \n",
              "1614225    3.651149e+11\n",
              "1614226    3.651145e+11\n",
              "1614227    3.651138e+11\n",
              "1614228    3.651134e+11\n",
              "1614229    3.651135e+11\n",
              "Name: OBV, Length: 1614230, dtype: float64"
            ],
            "text/html": [
              "<div>\n",
              "<style scoped>\n",
              "    .dataframe tbody tr th:only-of-type {\n",
              "        vertical-align: middle;\n",
              "    }\n",
              "\n",
              "    .dataframe tbody tr th {\n",
              "        vertical-align: top;\n",
              "    }\n",
              "\n",
              "    .dataframe thead th {\n",
              "        text-align: right;\n",
              "    }\n",
              "</style>\n",
              "<table border=\"1\" class=\"dataframe\">\n",
              "  <thead>\n",
              "    <tr style=\"text-align: right;\">\n",
              "      <th></th>\n",
              "      <th>OBV</th>\n",
              "    </tr>\n",
              "  </thead>\n",
              "  <tbody>\n",
              "    <tr>\n",
              "      <th>0</th>\n",
              "      <td>NaN</td>\n",
              "    </tr>\n",
              "    <tr>\n",
              "      <th>1</th>\n",
              "      <td>-3.923627e+06</td>\n",
              "    </tr>\n",
              "    <tr>\n",
              "      <th>2</th>\n",
              "      <td>-9.864290e+05</td>\n",
              "    </tr>\n",
              "    <tr>\n",
              "      <th>3</th>\n",
              "      <td>-3.467460e+06</td>\n",
              "    </tr>\n",
              "    <tr>\n",
              "      <th>4</th>\n",
              "      <td>6.679640e+05</td>\n",
              "    </tr>\n",
              "    <tr>\n",
              "      <th>...</th>\n",
              "      <td>...</td>\n",
              "    </tr>\n",
              "    <tr>\n",
              "      <th>1614225</th>\n",
              "      <td>3.651149e+11</td>\n",
              "    </tr>\n",
              "    <tr>\n",
              "      <th>1614226</th>\n",
              "      <td>3.651145e+11</td>\n",
              "    </tr>\n",
              "    <tr>\n",
              "      <th>1614227</th>\n",
              "      <td>3.651138e+11</td>\n",
              "    </tr>\n",
              "    <tr>\n",
              "      <th>1614228</th>\n",
              "      <td>3.651134e+11</td>\n",
              "    </tr>\n",
              "    <tr>\n",
              "      <th>1614229</th>\n",
              "      <td>3.651135e+11</td>\n",
              "    </tr>\n",
              "  </tbody>\n",
              "</table>\n",
              "<p>1614230 rows × 1 columns</p>\n",
              "</div><br><label><b>dtype:</b> float64</label>"
            ]
          },
          "metadata": {},
          "execution_count": 5
        }
      ]
    },
    {
      "cell_type": "code",
      "source": [
        "# B. Tạo các đặc trưng trễ (Lag Features)\n",
        "print(\"Tạo các đặc trưng trễ...\")\n",
        "df_full['daily_return'] = df_full.groupby('Symbol')['Close'].pct_change()\n",
        "for i in range(1, 6):\n",
        "    df_full[f'daily_return_lag_{i}'] = df_full.groupby('Symbol')['daily_return'].shift(i)"
      ],
      "metadata": {
        "colab": {
          "base_uri": "https://localhost:8080/"
        },
        "id": "eZsC83j2nda0",
        "outputId": "0acafa33-fb91-4bc6-a1cf-a0293d796bb5"
      },
      "execution_count": null,
      "outputs": [
        {
          "output_type": "stream",
          "name": "stdout",
          "text": [
            "Tạo các đặc trưng trễ...\n"
          ]
        }
      ]
    },
    {
      "cell_type": "code",
      "source": [
        "# C. Tạo các đặc trưng tương tác (Interaction Features)\n",
        "print(\"Tạo các đặc trưng tương tác...\")\n",
        "# Thanh khoản tương đối\n",
        "df_full['relative_volume'] = df_full['Volume'] / df_full['averageVolume']\n",
        "# Chuẩn hóa lợi nhuận theo rủi ro\n",
        "df_full['risk_adjusted_return'] = df_full['daily_return'] / df_full['beta']"
      ],
      "metadata": {
        "colab": {
          "base_uri": "https://localhost:8080/"
        },
        "id": "2lkBjxyonglh",
        "outputId": "46d8dd67-d4fe-4088-b113-0d65d4d8bc94"
      },
      "execution_count": null,
      "outputs": [
        {
          "output_type": "stream",
          "name": "stdout",
          "text": [
            "Tạo các đặc trưng tương tác...\n"
          ]
        }
      ]
    },
    {
      "cell_type": "code",
      "source": [
        "# D. Tạo các đặc trưng nhóm (Group-based Features)\n",
        "print(\"Tạo các đặc trưng nhóm theo ngành...\")\n",
        "# Tính lợi nhuận trung bình của ngành theo từng ngày\n",
        "sector_avg_return = df_full.groupby(['Date', 'GICS Sector'])['daily_return'].transform('mean')\n",
        "# Đặc trưng so sánh lợi nhuận của cổ phiếu với ngành\n",
        "df_full['return_vs_sector'] = df_full['daily_return'] - sector_avg_return"
      ],
      "metadata": {
        "colab": {
          "base_uri": "https://localhost:8080/"
        },
        "id": "rHB2GXDinjng",
        "outputId": "a0822b38-6508-4c5e-a640-a0ae1e391e58"
      },
      "execution_count": null,
      "outputs": [
        {
          "output_type": "stream",
          "name": "stdout",
          "text": [
            "Tạo các đặc trưng nhóm theo ngành...\n"
          ]
        }
      ]
    },
    {
      "cell_type": "code",
      "source": [
        "# Làm sạch dữ liệu sau khi tạo đặc trưng\n",
        "df_featured = df_full.dropna().copy()\n",
        "print(f\"Đã tạo xong đặc trưng. Kích thước dữ liệu cuối cùng: {df_featured.shape}\")"
      ],
      "metadata": {
        "colab": {
          "base_uri": "https://localhost:8080/"
        },
        "id": "gdStpXBCnm1o",
        "outputId": "bb67930f-4d25-4f97-92c1-d63c722bbcc7"
      },
      "execution_count": null,
      "outputs": [
        {
          "output_type": "stream",
          "name": "stdout",
          "text": [
            "Đã tạo xong đặc trưng. Kích thước dữ liệu cuối cùng: (1611619, 44)\n"
          ]
        }
      ]
    },
    {
      "cell_type": "code",
      "source": [
        "# Đường dẫn đầy đủ đến folder\n",
        "output_path = \"/content/drive/MyDrive/Data Stock/data_with_features.csv\"\n",
        "\n",
        "# Lưu file\n",
        "df_featured.to_csv(output_path, index=False)\n",
        "\n",
        "print(f\"Lưu file thành công vào '{output_path}'\")"
      ],
      "metadata": {
        "colab": {
          "base_uri": "https://localhost:8080/"
        },
        "id": "MO8vTmm9nxz9",
        "outputId": "9dbc5681-a9e8-4e7f-a730-bc918caaf89a"
      },
      "execution_count": null,
      "outputs": [
        {
          "output_type": "stream",
          "name": "stdout",
          "text": [
            "Lưu file thành công vào '/content/drive/MyDrive/Data Stock/data_with_features.csv'\n"
          ]
        }
      ]
    }
  ]
}