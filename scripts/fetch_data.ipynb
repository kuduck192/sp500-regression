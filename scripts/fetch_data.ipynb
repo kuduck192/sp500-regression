{
 "cells": [
  {
   "cell_type": "code",
   "execution_count": 1,
   "id": "db919236",
   "metadata": {},
   "outputs": [
    {
     "data": {
      "text/plain": [
       "(257,\n",
       " ['A',\n",
       "  'AAPL',\n",
       "  'ABT',\n",
       "  'ADBE',\n",
       "  'ADI',\n",
       "  'ADM',\n",
       "  'ADP',\n",
       "  'ADSK',\n",
       "  'AEE',\n",
       "  'AEP',\n",
       "  'AES',\n",
       "  'AFL',\n",
       "  'AIG',\n",
       "  'AIZ',\n",
       "  'AKAM',\n",
       "  'ALL',\n",
       "  'AMAT',\n",
       "  'AMGN',\n",
       "  'AMP',\n",
       "  'AMT'])"
      ]
     },
     "execution_count": 1,
     "metadata": {},
     "output_type": "execute_result"
    }
   ],
   "source": [
    "import pandas as pd\n",
    "\n",
    "df = pd.read_csv('S&P 500 Historical Components & Changes(07-12-2025).csv')\n",
    "# Chuyển cột date sang datetime\n",
    "df['date'] = pd.to_datetime(df['date'])\n",
    "\n",
    "# Lọc dữ liệu trong giai đoạn 2009-2025\n",
    "df_filtered = df[(df['date'].dt.year >= 2009) & (df['date'].dt.year <= 2025)].copy()\n",
    "\n",
    "# Tách các mã thành list\n",
    "df_filtered['tickers_list'] = df_filtered['tickers'].apply(lambda x: x.split(','))\n",
    "\n",
    "# Lấy giao (intersection) các mã tồn tại xuyên suốt giai đoạn 2009-2025\n",
    "tickers_sets = [set(t) for t in df_filtered['tickers_list']]\n",
    "tickers_intersection = set.intersection(*tickers_sets)\n",
    "\n",
    "len(tickers_intersection), sorted(list(tickers_intersection))[:20]  # xem trước 20 mã đầu tiên\n"
   ]
  },
  {
   "cell_type": "code",
   "execution_count": null,
   "id": "c5f945f2",
   "metadata": {},
   "outputs": [
    {
     "name": "stderr",
     "output_type": "stream",
     "text": [
      "[*********************100%***********************]  257 of 257 completed\n",
      "\n",
      "1 Failed download:\n",
      "['BF.B']: YFPricesMissingError('possibly delisted; no price data found  (1d 2009-02-01 -> 2025-07-12)')\n"
     ]
    },
    {
     "name": "stdout",
     "output_type": "stream",
     "text": [
      "Dữ liệu đã lưu vào sp500_prices_2009_2025.csv\n"
     ]
    }
   ],
   "source": [
    "import yfinance as yf\n",
    "import pandas as pd\n",
    "\n",
    "# Danh sách 257 mã bạn đã lọc\n",
    "tickers = tickers_intersection\n",
    "\n",
    "# Tải dữ liệu từ Yahoo Finance\n",
    "data = yf.download(\n",
    "    tickers=tickers,\n",
    "    start=\"2009-01-01\",\n",
    "    end=\"2025-07-12\",\n",
    "    group_by=\"ticker\",\n",
    "    auto_adjust=False,\n",
    "    threads=True\n",
    ")\n",
    "\n",
    "# Lưu ra file CSV\n",
    "data.to_csv(\"sp500_prices_2009_2025.csv\")\n",
    "print(\"Dữ liệu đã lưu vào sp500_prices_2009_2025.csv\")\n"
   ]
  },
  {
   "cell_type": "code",
   "execution_count": 28,
   "id": "16fc08cd",
   "metadata": {},
   "outputs": [
    {
     "name": "stdout",
     "output_type": "stream",
     "text": [
      "Số mã còn lại sau khi bỏ NaN: 255\n",
      "['GS', 'ZBH', 'AES', 'MCD', 'IFF', 'AMZN', 'INTC', 'ALL', 'AMP', 'ADSK', 'WYNN', 'HON', 'LLY', 'MAR', 'EFX', 'RSG', 'MDT', 'MSI', 'AKAM', 'VLO', 'IBM', 'PM', 'NOC', 'SYY', 'C', 'AIZ', 'NI', 'AXP', 'CL', 'HPQ', 'TSN', 'MMC', 'K', 'KR', 'SRE', 'CTSH', 'L', 'ICE', 'MU', 'CCL', 'EA', 'CMCSA', 'CAT', 'CI', 'ORCL', 'TAP', 'AEE', 'BXP', 'CLX', 'LOW', 'BIIB', 'COF', 'WMB', 'WM', 'CAH', 'GWW', 'GILD', 'VZ', 'FITB', 'PNW', 'PEG', 'MKC', 'WFC', 'MTB', 'ISRG', 'EBAY', 'A', 'AON', 'MO', 'AMAT', 'HAS', 'PNC', 'COST', 'MDLZ', 'DTE', 'NKE', 'KO', 'DUK', 'PGR', 'ED', 'XOM', 'ABT', 'FDX', 'T', 'DRI', 'KMB', 'SO', 'UPS', 'MCHP', 'DVA', 'APH', 'AVB', 'PG', 'FAST', 'WEC', 'HD', 'CSCO', 'PCAR', 'MMM', 'MA', 'APA', 'XEL', 'PAYX', 'ADP', 'LUV', 'PH', 'AAPL', 'GIS', 'PRU', 'PFE', 'OXY', 'IVZ', 'BK', 'CAG', 'JNJ', 'WBA', 'EMR', 'CNP', 'LMT', 'ROK', 'SJM', 'PFG', 'EXPD', 'EL', 'HUM', 'F', 'JPM', 'TJX', 'PPL', 'SYK', 'OMC', 'HAL', 'ADI', 'SPG', 'COP', 'QCOM', 'CF', 'SLB', 'HSY', 'PSA', 'EXPE', 'NVDA', 'EQR', 'AMT', 'EIX', 'ECL', 'BBY', 'MRK', 'CVS', 'FCX', 'GLW', 'AVY', 'NUE', 'BMY', 'SHW', 'DHR', 'SNA', 'DOV', 'UNP', 'RL', 'AMGN', 'NTAP', 'CMS', 'GE', 'BDX', 'ETN', 'KEY', 'HES', 'CBRE', 'FIS', 'CVX', 'NEE', 'NDAQ', 'AFL', 'PHM', 'MSFT', 'TRV', 'CSX', 'NTRS', 'BAX', 'ADM', 'DIS', 'BSX', 'VRSN', 'DE', 'SPGI', 'UNH', 'EXC', 'GPC', 'SCHW', 'AIG', 'CMI', 'WY', 'TXT', 'AZO', 'SWK', 'DHI', 'TMO', 'CINF', 'SBUX', 'CPB', 'TPR', 'BEN', 'PPG', 'TXN', 'CTAS', 'STT', 'MAS', 'INTU', 'TGT', 'WMT', 'EMN', 'NEM', 'D', 'KIM', 'MET', 'JCI', 'STZ', 'LEN', 'APD', 'FE', 'HST', 'AEP', 'PLD', 'GD', 'HBAN', 'MCK', 'VMC', 'CRM', 'DGX', 'BAC', 'CB', 'KLAC', 'CHRW', 'ETR', 'WAT', 'ITW', 'EOG', 'ADBE', 'MCO', 'TROW', 'NSC', 'LH', 'YUM', 'IP', 'USB', 'BA', 'MS', 'DVN', 'RF', 'GOOGL', 'HIG', 'IPG', 'PEP', 'CME']\n"
     ]
    }
   ],
   "source": [
    "\n",
    "# Lọc ra những mã không có NaN\n",
    "valid_tickers = []\n",
    "for ticker in tickers:\n",
    "    df_ticker = data[ticker].dropna()\n",
    "    if len(df_ticker) == len(data[ticker]):  # nghĩa là không có NaN\n",
    "        valid_tickers.append(ticker)\n",
    "\n",
    "print(f\"Số mã còn lại sau khi bỏ NaN: {len(valid_tickers)}\")\n",
    "print(valid_tickers)\n",
    "\n",
    "# Nếu muốn lưu lại chỉ những mã này\n",
    "data_valid = data[valid_tickers]\n",
    "data_valid.to_csv(\"sp500_prices_clean.csv\")\n",
    "data_valid.isna().values.sum()"
   ]
  }
 ],
 "metadata": {
  "kernelspec": {
   "display_name": "rlhf",
   "language": "python",
   "name": "python3"
  },
  "language_info": {
   "codemirror_mode": {
    "name": "ipython",
    "version": 3
   },
   "file_extension": ".py",
   "mimetype": "text/x-python",
   "name": "python",
   "nbconvert_exporter": "python",
   "pygments_lexer": "ipython3",
   "version": "3.10.12"
  }
 },
 "nbformat": 4,
 "nbformat_minor": 5
}
